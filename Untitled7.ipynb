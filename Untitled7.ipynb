{
  "nbformat": 4,
  "nbformat_minor": 0,
  "metadata": {
    "colab": {
      "name": "Untitled7.ipynb",
      "provenance": [],
      "authorship_tag": "ABX9TyNYGDpfNE4Po0MpVxBJO91F",
      "include_colab_link": true
    },
    "kernelspec": {
      "name": "python3",
      "display_name": "Python 3"
    },
    "language_info": {
      "name": "python"
    }
  },
  "cells": [
    {
      "cell_type": "markdown",
      "metadata": {
        "id": "view-in-github",
        "colab_type": "text"
      },
      "source": [
        "<a href=\"https://colab.research.google.com/github/AleBrands/Python-para-Engenheiros-e-Cientistas/blob/main/Untitled7.ipynb\" target=\"_parent\"><img src=\"https://colab.research.google.com/assets/colab-badge.svg\" alt=\"Open In Colab\"/></a>"
      ]
    },
    {
      "cell_type": "code",
      "metadata": {
        "colab": {
          "base_uri": "https://localhost:8080/"
        },
        "id": "2KtEDYpWFT0c",
        "outputId": "1a108fcc-bec3-4cf2-c505-7025793af0a6"
      },
      "source": [
        "#Função para numeros impares e numeros pares\n",
        "for num in range(1, 21):\n",
        " \n",
        "    if num % 2 == 0:\n",
        "      print(num, 'É número par',)\n",
        "      continue\n",
        "    print(num, 'É um número impar',)"
      ],
      "execution_count": 23,
      "outputs": [
        {
          "output_type": "stream",
          "text": [
            "1 É um número impar\n",
            "2 É número par\n",
            "3 É um número impar\n",
            "4 É número par\n",
            "5 É um número impar\n",
            "6 É número par\n",
            "7 É um número impar\n",
            "8 É número par\n",
            "9 É um número impar\n",
            "10 É número par\n",
            "11 É um número impar\n",
            "12 É número par\n",
            "13 É um número impar\n",
            "14 É número par\n",
            "15 É um número impar\n",
            "16 É número par\n",
            "17 É um número impar\n",
            "18 É número par\n",
            "19 É um número impar\n",
            "20 É número par\n"
          ],
          "name": "stdout"
        }
      ]
    },
    {
      "cell_type": "code",
      "metadata": {
        "id": "be5eXuqiLb-l"
      },
      "source": [
        ""
      ],
      "execution_count": null,
      "outputs": []
    }
  ]
}