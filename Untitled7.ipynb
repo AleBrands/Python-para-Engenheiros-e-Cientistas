{
  "nbformat": 4,
  "nbformat_minor": 0,
  "metadata": {
    "colab": {
      "name": "Untitled7.ipynb",
      "provenance": [],
      "authorship_tag": "ABX9TyPqOOtBwNeqzRjfXBENSFdS",
      "include_colab_link": true
    },
    "kernelspec": {
      "name": "python3",
      "display_name": "Python 3"
    },
    "language_info": {
      "name": "python"
    }
  },
  "cells": [
    {
      "cell_type": "markdown",
      "metadata": {
        "id": "view-in-github",
        "colab_type": "text"
      },
      "source": [
        "<a href=\"https://colab.research.google.com/github/AleBrands/Python-para-Engenheiros-e-Cientistas/blob/main/Untitled7.ipynb\" target=\"_parent\"><img src=\"https://colab.research.google.com/assets/colab-badge.svg\" alt=\"Open In Colab\"/></a>"
      ]
    },
    {
      "cell_type": "code",
      "metadata": {
        "colab": {
          "base_uri": "https://localhost:8080/"
        },
        "id": "Q4pMedNN9sBR",
        "outputId": "b46a8b32-18d1-4ad9-fdab-89a49b8dfafd"
      },
      "source": [
        "#Número primo\n",
        "for n in range(2,20):\n",
        "  for x in range(2, n):\n",
        "    if n % x == 0:\n",
        "      print(n, 'Igual', x, '*', n//x)\n",
        "      break\n",
        "  else:\n",
        "    print(n, 'É número primo')    "
      ],
      "execution_count": 4,
      "outputs": [
        {
          "output_type": "stream",
          "text": [
            "2 É número primo\n",
            "3 É número primo\n",
            "4 Igual 2 * 2\n",
            "5 É número primo\n",
            "6 Igual 2 * 3\n",
            "7 É número primo\n",
            "8 Igual 2 * 4\n",
            "9 Igual 3 * 3\n",
            "10 Igual 2 * 5\n",
            "11 É número primo\n",
            "12 Igual 2 * 6\n",
            "13 É número primo\n",
            "14 Igual 2 * 7\n",
            "15 Igual 3 * 5\n",
            "16 Igual 2 * 8\n",
            "17 É número primo\n",
            "18 Igual 2 * 9\n",
            "19 É número primo\n"
          ],
          "name": "stdout"
        }
      ]
    }
  ]
}